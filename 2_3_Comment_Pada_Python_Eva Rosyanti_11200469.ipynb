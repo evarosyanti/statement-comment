{
 "cells": [
  {
   "cell_type": "code",
   "execution_count": 5,
   "metadata": {},
   "outputs": [
    {
     "name": "stdout",
     "output_type": "stream",
     "text": [
      "505\n",
      "Eva Rosyanti\n",
      "25\n",
      "Eva Rosyanti\n"
     ]
    }
   ],
   "source": [
    "#nama: Eva Rosyanti\n",
    "#nim : Nim 11200469\n",
    "#Jawab Tugas Praktek 3.2 Nomor 1\n",
    "#fungsi matematika Untuk Mencetak Jumlah Perhitungan Matematika\n",
    "#fungsi mencetak kalimat Untuk Mencetak Kata Atau Kalimat\n",
    "\n",
    "print(10*50+5) #fungsi matematika\n",
    "print(\"Eva Rosyanti\") #fungsi mencetak kalimat\n",
    "#Jawab Tugas Praktek 3.2 Nomor 2\n",
    "print(10*2+5) #fungsi matematika\n",
    "print(\"Eva Rosyanti\") #fungsi mencetak kalimat"
   ]
  },
  {
   "cell_type": "code",
   "execution_count": null,
   "metadata": {
    "collapsed": true
   },
   "outputs": [],
   "source": []
  }
 ],
 "metadata": {
  "kernelspec": {
   "display_name": "Python 3",
   "language": "python",
   "name": "python3"
  },
  "language_info": {
   "codemirror_mode": {
    "name": "ipython",
    "version": 3
   },
   "file_extension": ".py",
   "mimetype": "text/x-python",
   "name": "python",
   "nbconvert_exporter": "python",
   "pygments_lexer": "ipython3",
   "version": "3.6.3"
  }
 },
 "nbformat": 4,
 "nbformat_minor": 2
}
